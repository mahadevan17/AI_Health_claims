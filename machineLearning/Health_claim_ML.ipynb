{
 "cells": [
  {
   "cell_type": "code",
   "execution_count": 1,
   "id": "d44a32de-722f-4165-bbca-cf4da090f374",
   "metadata": {},
   "outputs": [],
   "source": [
    "import warnings\n",
    "warnings.simplefilter('ignore')\n",
    "import pandas as pd\n",
    "import numpy as np\n",
    "from sklearn.impute import KNNImputer\n",
    "import random\n",
    "from sklearn.preprocessing import LabelEncoder\n",
    "import seaborn as sns\n",
    "import matplotlib.pyplot as plt"
   ]
  },
  {
   "cell_type": "code",
   "execution_count": 2,
   "id": "2728a564-8540-4e08-ab3c-e62249c27742",
   "metadata": {},
   "outputs": [],
   "source": [
    "#importing the train dataset\n",
    "data1=pd.read_csv(\"Train_Beneficiarydata.csv\",encoding='UTF-8')\n",
    "data2=pd.read_csv(\"Train_Inpatientdata.csv\",encoding='UTF-8')\n",
    "data3=pd.read_csv(\"Train_Outpatientdata.csv\",encoding='UTF-8')\n",
    "data4=pd.read_csv(\"Train.csv\",encoding='UTF-8')\n",
    "\n",
    "data5=pd.read_csv(\"Test_Beneficiarydata.csv\",encoding='UTF-8')\n",
    "data6=pd.read_csv(\"Test_Inpatientdata.csv\",encoding='UTF-8')\n",
    "data7=pd.read_csv(\"Test_Outpatientdata.csv\",encoding='UTF-8')\n",
    "data8=pd.read_csv(\"Test.csv\",encoding='UTF-8')"
   ]
  },
  {
   "cell_type": "code",
   "execution_count": null,
   "id": "b2e9d9b9-4900-4876-a8b1-fa74baf38e97",
   "metadata": {},
   "outputs": [],
   "source": []
  }
 ],
 "metadata": {
  "kernelspec": {
   "display_name": "Python 3 (ipykernel)",
   "language": "python",
   "name": "python3"
  },
  "language_info": {
   "codemirror_mode": {
    "name": "ipython",
    "version": 3
   },
   "file_extension": ".py",
   "mimetype": "text/x-python",
   "name": "python",
   "nbconvert_exporter": "python",
   "pygments_lexer": "ipython3",
   "version": "3.13.1"
  }
 },
 "nbformat": 4,
 "nbformat_minor": 5
}
